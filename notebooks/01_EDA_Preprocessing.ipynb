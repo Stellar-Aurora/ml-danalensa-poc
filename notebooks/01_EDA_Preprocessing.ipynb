{
 "cells": [
  {
   "cell_type": "code",
   "execution_count": 1,
   "id": "29fee612-a620-45a2-a47c-f105a969c77d",
   "metadata": {},
   "outputs": [],
   "source": [
    "import pandas as pd\n",
    "import matplotlib.pyplot as plt\n",
    "import seaborn as sns\n",
    "\n",
    "# Setting agar grafik terlihat lebih bagus\n",
    "sns.set_style(\"whitegrid\")\n",
    "plt.rcParams['figure.figsize'] = (15, 8) # Membuat ukuran default grafik lebih besar"
   ]
  },
  {
   "cell_type": "code",
   "execution_count": 2,
   "id": "c1249aad-8151-499a-80ff-4d1ec2193518",
   "metadata": {},
   "outputs": [],
   "source": [
    "# Load dataset \n",
    "df = pd.read_csv('../data/synthetic_transactions.csv', parse_dates=['tanggal'])"
   ]
  },
  {
   "cell_type": "code",
   "execution_count": 3,
   "id": "a1e29e07-5b31-4cc8-b3a4-5fab833108ac",
   "metadata": {},
   "outputs": [
    {
     "name": "stdout",
     "output_type": "stream",
     "text": [
      "5 baris pertama dari dataset:\n"
     ]
    },
    {
     "data": {
      "text/html": [
       "<div>\n",
       "<style scoped>\n",
       "    .dataframe tbody tr th:only-of-type {\n",
       "        vertical-align: middle;\n",
       "    }\n",
       "\n",
       "    .dataframe tbody tr th {\n",
       "        vertical-align: top;\n",
       "    }\n",
       "\n",
       "    .dataframe thead th {\n",
       "        text-align: right;\n",
       "    }\n",
       "</style>\n",
       "<table border=\"1\" class=\"dataframe\">\n",
       "  <thead>\n",
       "    <tr style=\"text-align: right;\">\n",
       "      <th></th>\n",
       "      <th>user_id</th>\n",
       "      <th>tanggal</th>\n",
       "      <th>keterangan</th>\n",
       "      <th>tipe</th>\n",
       "      <th>jumlah</th>\n",
       "    </tr>\n",
       "  </thead>\n",
       "  <tbody>\n",
       "    <tr>\n",
       "      <th>0</th>\n",
       "      <td>andi_designer</td>\n",
       "      <td>2024-07-26</td>\n",
       "      <td>Kebutuhan Harian</td>\n",
       "      <td>Pengeluaran</td>\n",
       "      <td>-40447.0</td>\n",
       "    </tr>\n",
       "    <tr>\n",
       "      <th>1</th>\n",
       "      <td>andi_designer</td>\n",
       "      <td>2024-07-27</td>\n",
       "      <td>Kebutuhan Harian</td>\n",
       "      <td>Pengeluaran</td>\n",
       "      <td>-155725.0</td>\n",
       "    </tr>\n",
       "    <tr>\n",
       "      <th>2</th>\n",
       "      <td>andi_designer</td>\n",
       "      <td>2024-07-28</td>\n",
       "      <td>Kebutuhan Harian</td>\n",
       "      <td>Pengeluaran</td>\n",
       "      <td>-185734.0</td>\n",
       "    </tr>\n",
       "    <tr>\n",
       "      <th>3</th>\n",
       "      <td>andi_designer</td>\n",
       "      <td>2024-07-29</td>\n",
       "      <td>Pemasukan Proyek Utama</td>\n",
       "      <td>Pemasukan</td>\n",
       "      <td>3624170.0</td>\n",
       "    </tr>\n",
       "    <tr>\n",
       "      <th>4</th>\n",
       "      <td>andi_designer</td>\n",
       "      <td>2024-07-29</td>\n",
       "      <td>Kebutuhan Harian</td>\n",
       "      <td>Pengeluaran</td>\n",
       "      <td>-42106.0</td>\n",
       "    </tr>\n",
       "  </tbody>\n",
       "</table>\n",
       "</div>"
      ],
      "text/plain": [
       "         user_id    tanggal              keterangan         tipe     jumlah\n",
       "0  andi_designer 2024-07-26        Kebutuhan Harian  Pengeluaran   -40447.0\n",
       "1  andi_designer 2024-07-27        Kebutuhan Harian  Pengeluaran  -155725.0\n",
       "2  andi_designer 2024-07-28        Kebutuhan Harian  Pengeluaran  -185734.0\n",
       "3  andi_designer 2024-07-29  Pemasukan Proyek Utama    Pemasukan  3624170.0\n",
       "4  andi_designer 2024-07-29        Kebutuhan Harian  Pengeluaran   -42106.0"
      ]
     },
     "metadata": {},
     "output_type": "display_data"
    }
   ],
   "source": [
    "# Cek 5 baris pertama\n",
    "print(\"5 baris pertama dari dataset:\")\n",
    "display(df.head())"
   ]
  },
  {
   "cell_type": "code",
   "execution_count": 4,
   "id": "f4d292e9-4b24-4e22-856e-f774a67c80cc",
   "metadata": {},
   "outputs": [
    {
     "name": "stdout",
     "output_type": "stream",
     "text": [
      "\n",
      "Informasi Dataset:\n",
      "<class 'pandas.core.frame.DataFrame'>\n",
      "RangeIndex: 1730 entries, 0 to 1729\n",
      "Data columns (total 5 columns):\n",
      " #   Column      Non-Null Count  Dtype         \n",
      "---  ------      --------------  -----         \n",
      " 0   user_id     1730 non-null   object        \n",
      " 1   tanggal     1730 non-null   datetime64[ns]\n",
      " 2   keterangan  1730 non-null   object        \n",
      " 3   tipe        1730 non-null   object        \n",
      " 4   jumlah      1730 non-null   float64       \n",
      "dtypes: datetime64[ns](1), float64(1), object(3)\n",
      "memory usage: 67.7+ KB\n"
     ]
    }
   ],
   "source": [
    "# Cek informasi dasar (tipe data, jumlah baris, dll)\n",
    "print(\"\\nInformasi Dataset:\")\n",
    "df.info()"
   ]
  },
  {
   "cell_type": "code",
   "execution_count": null,
   "id": "ac17fdf3-20fa-4ae4-9445-4d4fc51727fa",
   "metadata": {},
   "outputs": [],
   "source": []
  }
 ],
 "metadata": {
  "kernelspec": {
   "display_name": "Python 3 (ipykernel)",
   "language": "python",
   "name": "python3"
  },
  "language_info": {
   "codemirror_mode": {
    "name": "ipython",
    "version": 3
   },
   "file_extension": ".py",
   "mimetype": "text/x-python",
   "name": "python",
   "nbconvert_exporter": "python",
   "pygments_lexer": "ipython3",
   "version": "3.13.2"
  }
 },
 "nbformat": 4,
 "nbformat_minor": 5
}
